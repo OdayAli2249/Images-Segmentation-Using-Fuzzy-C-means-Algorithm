{
 "cells": [
  {
   "cell_type": "code",
   "execution_count": 1,
   "metadata": {
    "id": "dpMJcpsXFbNn"
   },
   "outputs": [],
   "source": [
    "import pandas as pd\n",
    "import numpy as np\n",
    "import random\n",
    "import operator\n",
    "import math\n",
    "import matplotlib.pyplot as plt \n",
    "from scipy.stats import multivariate_normal \n",
    "from sklearn.datasets import make_blobs"
   ]
  },
  {
   "cell_type": "code",
   "execution_count": 2,
   "metadata": {
    "id": "UKxMoTGvnmPb"
   },
   "outputs": [
    {
     "data": {
      "image/png": "[encoded data removed]",
      "text/plain": [
       "<Figure size 432x288 with 1 Axes>"
      ]
     },
     "metadata": {
      "needs_background": "light"
     },
     "output_type": "display_data"
    },
    {
     "name": "stdout",
     "output_type": "stream",
     "text": [
      "(200, 2)\n"
     ]
    }
   ],
   "source": [
    "number_of_clusters = 5\n",
    "X, y = make_blobs(n_samples = 200, centers = number_of_clusters)\n",
    "\n",
    "\n",
    "points_data = plt.scatter(X[:, 0], X[:, 1], s=50, cmap='viridis')\n",
    "\n",
    "plt.show()\n",
    "\n",
    "print(X.shape)\n"
   ]
  },
  {
   "cell_type": "code",
   "execution_count": 3,
   "metadata": {
    "id": "fWiSJnFJoczP"
   },
   "outputs": [],
   "source": [
    "#number of data\n",
    "n = 200\n",
    "#number of clusters\n",
    "k = 3\n",
    "#dimension of cluster\n",
    "d = 2\n",
    "# m parameter\n",
    "m = 2\n",
    "#number of iterations\n",
    "MAX_ITERS = 12"
   ]
  },
  {
   "cell_type": "code",
   "execution_count": 4,
   "metadata": {
    "id": "UIP8HmGVbKIv"
   },
   "outputs": [],
   "source": [
    "def initializeMembershipWeights():\n",
    "\n",
    "    weight = np.random.dirichlet(np.ones(k),n)\n",
    "    weight_arr = np.array(weight)\n",
    "    return weight_arr"
   ]
  },
  {
   "cell_type": "code",
   "execution_count": 5,
   "metadata": {},
   "outputs": [
    {
     "name": "stdout",
     "output_type": "stream",
     "text": [
      "(200, 3)\n"
     ]
    }
   ],
   "source": [
    "#print(initializeMembershipWeights())\n",
    "weight_arr = initializeMembershipWeights()\n",
    "print(weight_arr.shape)"
   ]
  },
  {
   "cell_type": "code",
   "execution_count": 6,
   "metadata": {},
   "outputs": [
    {
     "name": "stdout",
     "output_type": "stream",
     "text": [
      "[2 4 6]\n"
     ]
    }
   ],
   "source": [
    "a1 = np.asarray([[1,2,3],[1,2,3]])\n",
    "a2 = np.asarray([2,2])\n",
    "#print(a1.shape)\n",
    "#print(a2.shape)\n",
    "#print(a2.dot(a1))\n",
    "#print((a1.T / a2).T)\n",
    "print(a1.sum(axis = 0))"
   ]
  },
  {
   "cell_type": "code",
   "execution_count": 7,
   "metadata": {},
   "outputs": [],
   "source": [
    "def updateCentroids(weight_arr, data):\n",
    "    Wij_power_m = np.power(weight_arr,m) \n",
    "    term1 = data.T.dot(Wij_power_m).T\n",
    "    term2 = Wij_power_m.sum(axis = 0)\n",
    "    V = (term1.T / term2).T  \n",
    "    return V     "
   ]
  },
  {
   "cell_type": "code",
   "execution_count": 8,
   "metadata": {},
   "outputs": [
    {
     "name": "stdout",
     "output_type": "stream",
     "text": [
      "[[ 1.34465454 -2.08297557]\n",
      " [ 1.48007082 -2.42077253]\n",
      " [ 1.60308634 -2.45525552]]\n"
     ]
    }
   ],
   "source": [
    "c2 = updateCentroids(weight_arr, X)\n",
    "\n",
    "print(c2)"
   ]
  },
  {
   "cell_type": "code",
   "execution_count": 9,
   "metadata": {},
   "outputs": [
    {
     "name": "stdout",
     "output_type": "stream",
     "text": [
      "[[1. 0. 0. 0. 0.]\n",
      " [0. 1. 0. 0. 0.]\n",
      " [0. 0. 1. 0. 0.]\n",
      " [0. 0. 0. 1. 0.]\n",
      " [0. 0. 0. 0. 1.]]\n"
     ]
    }
   ],
   "source": [
    "arr1 = np.asarray([[1,1,1,1],[1,1,1,1],[1,1,1,1]])\n",
    "#print(arr1.shape)\n",
    "arr2 = np.asarray([2,2,1,1])\n",
    "#print(arr2.shape)\n",
    "\n",
    "arr3 = arr2 - arr1\n",
    "#print(arr3.shape)\n",
    "#print(np.sum(arr3, axis=0).shape)\n",
    "print(np.identity(5, dtype = None))"
   ]
  },
  {
   "cell_type": "code",
   "execution_count": 10,
   "metadata": {},
   "outputs": [],
   "source": [
    "def updateDistances(V,A, data):\n",
    "    \n",
    "    clusters = V.shape[0]\n",
    "    samples = data.shape[0]\n",
    "        \n",
    "    dist = np.zeros((samples, clusters))\n",
    "    \n",
    "    for i in range(0, clusters):\n",
    "        for j in range(0,samples):\n",
    "            dist_L1 = data[j,:] - V[i]\n",
    "            dist_L2 = dist_L1.T.dot(dist_L1.dot(A))\n",
    "            dist[j,i] = np.sqrt(dist_L2)\n",
    "\n",
    "    return dist\n",
    "        \n",
    "\n",
    "def updateWeightsv2(weight_arr,V,dist, data):\n",
    "    \n",
    "    clusters = V.shape[0]\n",
    "    samples = data.shape[0]\n",
    "    \n",
    "    U = np.zeros((weight_arr.shape[0], weight_arr.shape[1]))\n",
    "\n",
    "    for i in range(0, clusters):\n",
    "        for j in range(0,samples):\n",
    "            term = 0\n",
    "            for k in range(0, clusters):\n",
    "                term += np.power(np.divide(dist[j,i],dist[j,k]),2/(m-1))\n",
    "            U[j,i] = np.divide(1, term)\n",
    "            \n",
    "    return U    "
   ]
  },
  {
   "cell_type": "code",
   "execution_count": 11,
   "metadata": {},
   "outputs": [
    {
     "name": "stdout",
     "output_type": "stream",
     "text": [
      "[[ 1.34465454 -2.08297557]\n",
      " [ 1.48007082 -2.42077253]\n",
      " [ 1.60308634 -2.45525552]]\n"
     ]
    }
   ],
   "source": [
    "c2 = updateCentroids(weight_arr, X)\n",
    "\n",
    "print(c2)\n",
    "\n",
    "A = np.identity(2, dtype = None)\n",
    "dist = updateDistances(c2,A, X)\n",
    "#print(dist)\n",
    "u2 = updateWeightsv2(weight_arr,c2,dist, X)"
   ]
  },
  {
   "cell_type": "code",
   "execution_count": 12,
   "metadata": {},
   "outputs": [
    {
     "name": "stdout",
     "output_type": "stream",
     "text": [
      "[0.28346533 0.32966416 0.38687052]\n"
     ]
    }
   ],
   "source": [
    "\n",
    "print(u2[111])"
   ]
  },
  {
   "cell_type": "code",
   "execution_count": 13,
   "metadata": {
    "id": "SG1F7W3oOnkT"
   },
   "outputs": [],
   "source": [
    "def plotData(z,C):  \n",
    "    plt.subplot(4,3,z+1)              #scatter plot of sepal length vs sepal width                              \n",
    "    plt.scatter(list(df.iloc[:,2]), list(df.iloc[:,3]), marker='o')    \n",
    "    for center in C:\n",
    "        plt.scatter(center[2],center[3], marker='o',color='r')        \n",
    "    plt.axis('equal')                                                                 \n",
    "    plt.xlabel('Sepal Length', fontsize=16)                                                 \n",
    "    plt.ylabel('Sepal Width', fontsize=16)                                                                                      \n",
    "    plt.grid()                                                  "
   ]
  },
  {
   "cell_type": "code",
   "execution_count": 14,
   "metadata": {
    "id": "xVczx5dVVQP7"
   },
   "outputs": [],
   "source": [
    "def FuzzyMeansAlgorithm():\n",
    "    weight_arr = initializeMembershipWeights() \n",
    "    for z in range(MAX_ITERS):\n",
    "        C = updateCentroids(weight_arr,X)\n",
    "        A = np.identity(d, dtype = None)\n",
    "        dist = updateDistances(C,A,X)\n",
    "        u = updateWeightsv2(weight_arr,C,dist,X)\n",
    "        weight_arr = u\n",
    "    plt.show()\n",
    "    return (weight_arr,C)\n",
    "\n"
   ]
  },
  {
   "cell_type": "code",
   "execution_count": 15,
   "metadata": {
    "colab": {
     "base_uri": "https://localhost:8080/",
     "height": 1000
    },
    "id": "8rfS9w_hZ-Sz",
    "outputId": "d2343af0-4cc1-4055-f4c0-57d3924873e3"
   },
   "outputs": [],
   "source": [
    "final_weights,Centers = FuzzyMeansAlgorithm()"
   ]
  },
  {
   "cell_type": "code",
   "execution_count": 16,
   "metadata": {},
   "outputs": [
    {
     "data": {
      "image/png": "[encoded data removed]",
      "text/plain": [
       "<Figure size 432x288 with 1 Axes>"
      ]
     },
     "metadata": {
      "needs_background": "light"
     },
     "output_type": "display_data"
    }
   ],
   "source": [
    "points_data = plt.scatter(X[:, 0], X[:, 1], s=50, cmap='viridis')\n",
    "\n",
    "centers = plt.scatter(Centers[:, 0], Centers[:, 1], c='black', s=100, alpha=0.7)\n",
    "\n",
    "plt.legend((centers, points_data),\n",
    "           (\"Centers\", \"Points\"))\n",
    "\n",
    "plt.show()"
   ]
  },
  {
   "cell_type": "code",
   "execution_count": 40,
   "metadata": {},
   "outputs": [],
   "source": [
    "# Gustafson kessel\n",
    "\n",
    "def compute_covariance(X, Centers, weight_arr):\n",
    "    um = np.power(weight_arr,m)\n",
    "    under_fraction = um.sum(1).reshape(-1, 1, 1)\n",
    "    own_shape = X.reshape(X.shape[0], 1, -1) - Centers.reshape(1, Centers.shape[0], -1)\n",
    "    temp = np.expand_dims(own_shape, axis=3)\n",
    "    temp2 = temp **2  + 1e-19\n",
    "    temp = np.matmul(temp, temp.transpose((0, 1, 3, 2)))\n",
    "    upper_fraction = um.T.reshape(um.shape[1], um.shape[0], 1, 1) * temp\n",
    "    upper_fraction = upper_fraction.sum(0)\n",
    "    middel_fraction = upper_fraction.sum(0) + upper_fraction.sum(0)\n",
    "    return upper_fraction / under_fraction"
   ]
  },
  {
   "cell_type": "code",
   "execution_count": 41,
   "metadata": {},
   "outputs": [],
   "source": [
    "    def dist(X, Centers, fraction):\n",
    "        own_shape = X.reshape(X.shape[0], 1, -1) - Centers.reshape(1, Centers.shape[0], -1)\n",
    "        dif = np.expand_dims(own_shape, axis=3)\n",
    "        det_covariance_fuzzy = np.linalg.det(fraction)\n",
    "        degreeFuzzines = m\n",
    "        determ = np.power(det_covariance_fuzzy, 1 / degreeFuzzines)\n",
    "        new_covariance_fuzzy =  np.linalg.pinv(fraction)                     \n",
    "        det_time_inv = determ.reshape(-1, 1, 1) * new_covariance_fuzzy\n",
    "        temp = np.matmul(dif.transpose((0, 1, 3, 2)), det_time_inv)\n",
    "        temp = np.matmul(temp, dif)\n",
    "        output = np.squeeze(temp)\n",
    "        return np.fmax(output.T, 1e-8)"
   ]
  },
  {
   "cell_type": "code",
   "execution_count": 42,
   "metadata": {},
   "outputs": [],
   "source": [
    "def updateMemberhipMatrix(distances):\n",
    "        power = float(1 / (m - 1))\n",
    "        distances = distances.T\n",
    "        own_shape = distances.shape[-1]\n",
    "        under_fraction = distances.reshape((distances.shape[0], 1, -1)).repeat(own_shape, axis=1)\n",
    "        dived = distances[:, None, :] / under_fraction.transpose((0, 2, 1))\n",
    "        under_fraction = np.power(dived, power)\n",
    "        sumation = under_fraction.sum(1)\n",
    "        under_fraction = 1 / sumation\n",
    "        sumation = np.power(sumation,power)\n",
    "        under_fraction = under_fraction.T\n",
    "\n",
    "        return under_fraction"
   ]
  },
  {
   "cell_type": "code",
   "execution_count": 43,
   "metadata": {},
   "outputs": [],
   "source": [
    "def update_centers(z, u):\n",
    "    um = np.power(u,m)\n",
    "    temp = np.matmul(um,z).T\n",
    "    res = (temp / um.sum(axis=1))\n",
    "    return res.T"
   ]
  },
  {
   "cell_type": "code",
   "execution_count": 44,
   "metadata": {},
   "outputs": [],
   "source": [
    "def GustafsonKesselAlgorithm():\n",
    "    weight_arr = initializeMembershipWeights().T\n",
    "    for z in range(MAX_ITERS):\n",
    "        C = update_centers(X,weight_arr)\n",
    "        F = compute_covariance(X, C, weight_arr)\n",
    "        distances = dist(X, C, F)\n",
    "        u = updateMemberhipMatrix(distances)\n",
    "        weight_arr = u\n",
    "    plt.show()\n",
    "    return (weight_arr,C)"
   ]
  },
  {
   "cell_type": "code",
   "execution_count": 45,
   "metadata": {},
   "outputs": [],
   "source": [
    "final_weights,Centers_GK = GustafsonKesselAlgorithm()"
   ]
  },
  {
   "cell_type": "code",
   "execution_count": 46,
   "metadata": {},
   "outputs": [
    {
     "data": {
      "image/png": "[encoded data removed]",
      "text/plain": [
       "<Figure size 432x288 with 1 Axes>"
      ]
     },
     "metadata": {
      "needs_background": "light"
     },
     "output_type": "display_data"
    }
   ],
   "source": [
    "points_data = plt.scatter(X[:, 0], X[:, 1], s=50, cmap='viridis')\n",
    "\n",
    "centers = plt.scatter(Centers_GK[:, 0], Centers_GK[:, 1], c='black', s=100, alpha=0.7)\n",
    "\n",
    "plt.legend((centers, points_data),\n",
    "           (\"Centers\", \"Points\"))\n",
    "\n",
    "plt.show()"
   ]
  },
  {
   "cell_type": "code",
   "execution_count": null,
   "metadata": {},
   "outputs": [],
   "source": []
  }
 ],
 "metadata": {
  "colab": {
   "name": "Fuzzy c-means algorithm implementation",
   "provenance": []
  },
  "kernelspec": {
   "display_name": "Python 3",
   "language": "python",
   "name": "python3"
  },
  "language_info": {
   "codemirror_mode": {
    "name": "ipython",
    "version": 3
   },
   "file_extension": ".py",
   "mimetype": "text/x-python",
   "name": "python",
   "nbconvert_exporter": "python",
   "pygments_lexer": "ipython3",
   "version": "3.6.13"
  }
 },
 "nbformat": 4,
 "nbformat_minor": 1
}
