{
 "cells": [
  {
   "cell_type": "code",
   "execution_count": 1,
   "metadata": {
    "id": "dpMJcpsXFbNn"
   },
   "outputs": [
    {
     "ename": "ModuleNotFoundError",
     "evalue": "No module named 'cv2'",
     "output_type": "error",
     "traceback": [
      "\u001b[1;31m---------------------------------------------------------------------------\u001b[0m",
      "\u001b[1;31mModuleNotFoundError\u001b[0m                       Traceback (most recent call last)",
      "\u001b[1;32m<ipython-input-1-63334d540659>\u001b[0m in \u001b[0;36m<module>\u001b[1;34m\u001b[0m\n\u001b[0;32m      5\u001b[0m \u001b[1;32mimport\u001b[0m \u001b[0mmatplotlib\u001b[0m\u001b[1;33m.\u001b[0m\u001b[0mpyplot\u001b[0m \u001b[1;32mas\u001b[0m \u001b[0mplt\u001b[0m\u001b[1;33m\u001b[0m\u001b[1;33m\u001b[0m\u001b[0m\n\u001b[0;32m      6\u001b[0m \u001b[1;32mfrom\u001b[0m \u001b[0mscipy\u001b[0m\u001b[1;33m.\u001b[0m\u001b[0mstats\u001b[0m \u001b[1;32mimport\u001b[0m \u001b[0mmultivariate_normal\u001b[0m\u001b[1;33m\u001b[0m\u001b[1;33m\u001b[0m\u001b[0m\n\u001b[1;32m----> 7\u001b[1;33m \u001b[1;32mimport\u001b[0m \u001b[0mcv2\u001b[0m\u001b[1;33m\u001b[0m\u001b[1;33m\u001b[0m\u001b[0m\n\u001b[0m",
      "\u001b[1;31mModuleNotFoundError\u001b[0m: No module named 'cv2'"
     ]
    }
   ],
   "source": [
    "import numpy as np\n",
    "import random\n",
    "import operator\n",
    "import math\n",
    "import matplotlib.pyplot as plt \n",
    "from scipy.stats import multivariate_normal \n",
    "import cv2"
   ]
  },
  {
   "cell_type": "code",
   "execution_count": 41,
   "metadata": {
    "id": "fWiSJnFJoczP"
   },
   "outputs": [
    {
     "name": "stdout",
     "output_type": "stream",
     "text": [
      "(290, 412, 3)\n"
     ]
    }
   ],
   "source": [
    "image = cv2.imread('images/fish.jpg')\n",
    "\n",
    "#number of data\n",
    "n = image.shape[0] * image.shape[1]\n",
    "\n",
    "#number of clusters\n",
    "k = 3\n",
    "\n",
    "#dimension of cluster\n",
    "d = 3\n",
    "\n",
    "# m parameter\n",
    "m = 2\n",
    "\n",
    "#number of iterations\n",
    "MAX_ITERS = 12\n",
    "\n",
    "print(image.shape)"
   ]
  },
  {
   "cell_type": "code",
   "execution_count": 7,
   "metadata": {
    "id": "UIP8HmGVbKIv"
   },
   "outputs": [],
   "source": [
    "def initializeMembershipWeights():\n",
    "\n",
    "    weight = np.random.dirichlet(np.ones(k),n)\n",
    "    weight_arr = np.array(weight)\n",
    "    return weight_arr"
   ]
  },
  {
   "cell_type": "code",
   "execution_count": 8,
   "metadata": {},
   "outputs": [
    {
     "name": "stdout",
     "output_type": "stream",
     "text": [
      "[[0.18395711 0.4715117  0.34453119]\n",
      " [0.4090851  0.36338929 0.22752562]\n",
      " [0.44646113 0.13634712 0.41719176]\n",
      " ...\n",
      " [0.31921692 0.54737826 0.13340482]\n",
      " [0.29011679 0.3581627  0.35172051]\n",
      " [0.78662197 0.14721583 0.0661622 ]]\n"
     ]
    }
   ],
   "source": [
    "#print(initializeMembershipWeights())\n",
    "weight_arr = initializeMembershipWeights()\n",
    "print(weight_arr)"
   ]
  },
  {
   "cell_type": "code",
   "execution_count": 41,
   "metadata": {},
   "outputs": [
    {
     "name": "stdout",
     "output_type": "stream",
     "text": [
      "[2 4 6]\n"
     ]
    }
   ],
   "source": [
    "a1 = np.asarray([[1,2,3],[1,2,3]])\n",
    "a2 = np.asarray([2,2])\n",
    "#print(a1.shape)\n",
    "#print(a2.shape)\n",
    "#print(a2.dot(a1))\n",
    "#print((a1.T / a2).T)\n",
    "print(a1.sum(axis = 0))"
   ]
  },
  {
   "cell_type": "code",
   "execution_count": 10,
   "metadata": {},
   "outputs": [],
   "source": [
    "def updateCentroids(weight_arr,data):\n",
    "    Wij_power_m = np.power(weight_arr,m) \n",
    "    term1 = data.T.dot(Wij_power_m).T\n",
    "    term2 = Wij_power_m.sum(axis = 0)\n",
    "    V = (term1.T / term2).T  \n",
    "    return V     "
   ]
  },
  {
   "cell_type": "code",
   "execution_count": 11,
   "metadata": {},
   "outputs": [
    {
     "ename": "NameError",
     "evalue": "name 'df' is not defined",
     "output_type": "error",
     "traceback": [
      "\u001b[1;31m---------------------------------------------------------------------------\u001b[0m",
      "\u001b[1;31mNameError\u001b[0m                                 Traceback (most recent call last)",
      "\u001b[1;32m<ipython-input-11-e99de98870b9>\u001b[0m in \u001b[0;36m<module>\u001b[1;34m\u001b[0m\n\u001b[1;32m----> 1\u001b[1;33m \u001b[0mc1\u001b[0m \u001b[1;33m=\u001b[0m \u001b[0mcomputeCentroids\u001b[0m\u001b[1;33m(\u001b[0m\u001b[0mweight_arr\u001b[0m\u001b[1;33m,\u001b[0m \u001b[0mdf\u001b[0m\u001b[1;33m.\u001b[0m\u001b[0miloc\u001b[0m\u001b[1;33m[\u001b[0m\u001b[1;33m:\u001b[0m\u001b[1;33m]\u001b[0m\u001b[1;33m.\u001b[0m\u001b[0mvalues\u001b[0m\u001b[1;33m)\u001b[0m\u001b[1;33m\u001b[0m\u001b[1;33m\u001b[0m\u001b[0m\n\u001b[0m\u001b[0;32m      2\u001b[0m \u001b[0mc2\u001b[0m \u001b[1;33m=\u001b[0m \u001b[0mupdateCentroids\u001b[0m\u001b[1;33m(\u001b[0m\u001b[0mweight_arr\u001b[0m\u001b[1;33m,\u001b[0m \u001b[0mdf\u001b[0m\u001b[1;33m.\u001b[0m\u001b[0miloc\u001b[0m\u001b[1;33m[\u001b[0m\u001b[1;33m:\u001b[0m\u001b[1;33m]\u001b[0m\u001b[1;33m.\u001b[0m\u001b[0mvalues\u001b[0m\u001b[1;33m)\u001b[0m\u001b[1;33m\u001b[0m\u001b[1;33m\u001b[0m\u001b[0m\n\u001b[0;32m      3\u001b[0m \u001b[1;33m\u001b[0m\u001b[0m\n\u001b[0;32m      4\u001b[0m \u001b[0mprint\u001b[0m\u001b[1;33m(\u001b[0m\u001b[0mnp\u001b[0m\u001b[1;33m.\u001b[0m\u001b[0masarray\u001b[0m\u001b[1;33m(\u001b[0m\u001b[0mc1\u001b[0m\u001b[1;33m)\u001b[0m\u001b[1;33m)\u001b[0m\u001b[1;33m\u001b[0m\u001b[1;33m\u001b[0m\u001b[0m\n\u001b[0;32m      5\u001b[0m \u001b[0mprint\u001b[0m\u001b[1;33m(\u001b[0m\u001b[0mc2\u001b[0m\u001b[1;33m)\u001b[0m\u001b[1;33m\u001b[0m\u001b[1;33m\u001b[0m\u001b[0m\n",
      "\u001b[1;31mNameError\u001b[0m: name 'df' is not defined"
     ]
    }
   ],
   "source": [
    "c2 = updateCentroids(weight_arr, df.iloc[:].values)\n",
    "\n",
    "print(c2)"
   ]
  },
  {
   "cell_type": "code",
   "execution_count": 45,
   "metadata": {},
   "outputs": [
    {
     "name": "stdout",
     "output_type": "stream",
     "text": [
      "[[1. 0. 0. 0. 0.]\n",
      " [0. 1. 0. 0. 0.]\n",
      " [0. 0. 1. 0. 0.]\n",
      " [0. 0. 0. 1. 0.]\n",
      " [0. 0. 0. 0. 1.]]\n"
     ]
    }
   ],
   "source": [
    "arr1 = np.asarray([[1,1,1,1],[1,1,1,1],[1,1,1,1]])\n",
    "#print(arr1.shape)\n",
    "arr2 = np.asarray([2,2,1,1])\n",
    "#print(arr2.shape)\n",
    "\n",
    "arr3 = arr2 - arr1\n",
    "#print(arr3.shape)\n",
    "#print(np.sum(arr3, axis=0).shape)\n",
    "print(np.identity(5, dtype = None))"
   ]
  },
  {
   "cell_type": "code",
   "execution_count": 13,
   "metadata": {},
   "outputs": [],
   "source": [
    "def updateDistances(V,A, data):\n",
    "    \n",
    "    clusters = V.shape[0]\n",
    "    samples = data.shape[0]\n",
    "        \n",
    "    dist = np.zeros((samples, clusters))\n",
    "    \n",
    "    for i in range(0, clusters):\n",
    "        for j in range(0,samples):\n",
    "            dist_L1 = data[j,:] - V[i]\n",
    "            #print(df.iloc[j,:].values)\n",
    "            dist_L2 = dist_L1.T.dot(dist_L1.dot(A))\n",
    "            dist[j,i] = np.sqrt(dist_L2)\n",
    "\n",
    "    return dist\n",
    "        \n",
    "\n",
    "def updateWeightsv2(weight_arr,V,dist, data):\n",
    "    \n",
    "    clusters = V.shape[0]\n",
    "    samples = data.shape[0]\n",
    "    \n",
    "    U = np.zeros((weight_arr.shape[0], weight_arr.shape[1]))\n",
    "\n",
    "    for i in range(0, clusters):\n",
    "        for j in range(0,samples):\n",
    "            term = 0\n",
    "            for k in range(0, clusters):\n",
    "                term += np.power(np.divide(dist[j,i],dist[j,k]),2/(m-1))\n",
    "            U[j,i] = np.divide(1, term)\n",
    "            \n",
    "    return U    "
   ]
  },
  {
   "cell_type": "code",
   "execution_count": 2,
   "metadata": {
    "id": "xVczx5dVVQP7"
   },
   "outputs": [],
   "source": [
    "def FuzzyMeansAlgorithm(data):\n",
    "    weight_arr = initializeMembershipWeights()\n",
    "    for z in range(MAX_ITERS):\n",
    "        C = updateCentroids(weight_arr, data)\n",
    "        A = np.identity(d, dtype = None)\n",
    "        dist = updateDistances(C,A, data)\n",
    "        u = updateWeightsv2(weight_arr,C,dist, data)\n",
    "        weight_arr = u\n",
    "    plt.show()\n",
    "    return (weight_arr,C)"
   ]
  },
  {
   "cell_type": "code",
   "execution_count": 15,
   "metadata": {},
   "outputs": [
    {
     "name": "stdout",
     "output_type": "stream",
     "text": [
      "(10, 5, 3)\n",
      "[[[ 1.  2.  3.]\n",
      "  [ 4.  5.  6.]\n",
      "  [ 7.  8.  9.]\n",
      "  [10. 11. 12.]\n",
      "  [13. 14. 15.]]\n",
      "\n",
      " [[ 1.  2.  3.]\n",
      "  [ 4.  5.  6.]\n",
      "  [ 7.  8.  9.]\n",
      "  [10. 11. 12.]\n",
      "  [13. 14. 15.]]\n",
      "\n",
      " [[ 1.  2.  3.]\n",
      "  [ 4.  5.  6.]\n",
      "  [ 7.  8.  9.]\n",
      "  [10. 11. 12.]\n",
      "  [13. 14. 15.]]\n",
      "\n",
      " [[ 1.  2.  3.]\n",
      "  [ 4.  5.  6.]\n",
      "  [ 7.  8.  9.]\n",
      "  [10. 11. 12.]\n",
      "  [13. 14. 15.]]\n",
      "\n",
      " [[ 1.  2.  3.]\n",
      "  [ 4.  5.  6.]\n",
      "  [ 7.  8.  9.]\n",
      "  [10. 11. 12.]\n",
      "  [13. 14. 15.]]\n",
      "\n",
      " [[ 1.  2.  3.]\n",
      "  [ 4.  5.  6.]\n",
      "  [ 7.  8.  9.]\n",
      "  [10. 11. 12.]\n",
      "  [13. 14. 15.]]\n",
      "\n",
      " [[ 1.  2.  3.]\n",
      "  [ 4.  5.  6.]\n",
      "  [ 7.  8.  9.]\n",
      "  [10. 11. 12.]\n",
      "  [13. 14. 15.]]\n",
      "\n",
      " [[ 1.  2.  3.]\n",
      "  [ 4.  5.  6.]\n",
      "  [ 7.  8.  9.]\n",
      "  [10. 11. 12.]\n",
      "  [13. 14. 15.]]\n",
      "\n",
      " [[ 1.  2.  3.]\n",
      "  [ 4.  5.  6.]\n",
      "  [ 7.  8.  9.]\n",
      "  [10. 11. 12.]\n",
      "  [13. 14. 15.]]\n",
      "\n",
      " [[ 1.  2.  3.]\n",
      "  [ 4.  5.  6.]\n",
      "  [ 7.  8.  9.]\n",
      "  [10. 11. 12.]\n",
      "  [13. 14. 15.]]]\n"
     ]
    }
   ],
   "source": [
    "# c-mean clustering for image segmentation\n",
    "data = np.zeros((10,5,3))\n",
    "print(data.shape)\n",
    "for i in range(0,data.shape[0]):\n",
    "    data[i] = np.array([[1,2,3],[4,5,6],[7,8,9],[10,11,12],[13,14,15]])\n",
    "    \n",
    "\n",
    "print(data)"
   ]
  },
  {
   "cell_type": "code",
   "execution_count": 42,
   "metadata": {},
   "outputs": [],
   "source": [
    "def vectorize(image):\n",
    "    \n",
    "    data = np.zeros((image.shape[0] * image.shape[1],3))\n",
    "    \n",
    "    for i in range(0, image.shape[0]):\n",
    "        for j in range(0, image.shape[1]):\n",
    "            data[i * image.shape[1] + j] = np.array([image[i][j][0],image[i][j][1],image[i][j][2]])\n",
    "    \n",
    "    return data"
   ]
  },
  {
   "cell_type": "code",
   "execution_count": 19,
   "metadata": {},
   "outputs": [
    {
     "name": "stdout",
     "output_type": "stream",
     "text": [
      "[[ 18.  25.  52.]\n",
      " [ 18.  25.  52.]\n",
      " [ 18.  25.  52.]\n",
      " ...\n",
      " [100. 120. 151.]\n",
      " [ 99. 119. 150.]\n",
      " [ 98. 118. 149.]]\n"
     ]
    }
   ],
   "source": [
    "print(vectorize(image))\n"
   ]
  },
  {
   "cell_type": "code",
   "execution_count": 20,
   "metadata": {},
   "outputs": [],
   "source": [
    "def argmax(arr):\n",
    "    l = []\n",
    "    for i in range(0, arr.shape[0]):\n",
    "        l.append(list(np.where(arr[i] == np.amax(arr[i]))[0])[0])\n",
    "    return l"
   ]
  },
  {
   "cell_type": "code",
   "execution_count": 21,
   "metadata": {},
   "outputs": [
    {
     "name": "stdout",
     "output_type": "stream",
     "text": [
      "[3, 1, 4, 2]\n"
     ]
    }
   ],
   "source": [
    "print(argmax(np.array([[1,2,12,13,4,5],[1,4,4,3,1,0],[1,2,12,13,40,5],[1,4,40,3,10,0]])))"
   ]
  },
  {
   "cell_type": "code",
   "execution_count": 22,
   "metadata": {},
   "outputs": [],
   "source": [
    "def generate_color(centeroid_number):\n",
    "    colors = np.zeros((centeroid_number, 3))\n",
    "    for i in range(0, centeroid_number):\n",
    "        colors[i] = np.array([random.randint(0, 255) for _ in range(3)])\n",
    "    return colors"
   ]
  },
  {
   "cell_type": "code",
   "execution_count": 23,
   "metadata": {},
   "outputs": [
    {
     "name": "stdout",
     "output_type": "stream",
     "text": [
      "[[131.  80. 186.]\n",
      " [ 30. 229. 207.]\n",
      " [185. 187.  33.]\n",
      " [194.  46. 206.]\n",
      " [ 66. 194. 188.]]\n"
     ]
    }
   ],
   "source": [
    "print(generate_color(5))"
   ]
  },
  {
   "cell_type": "code",
   "execution_count": 24,
   "metadata": {},
   "outputs": [],
   "source": [
    "def devectorize(colors, pixel_segments, image):\n",
    "    \n",
    "    w = image.shape[1]\n",
    "    h = image.shape[0]\n",
    "    \n",
    "    segmented_image = np.zeros((h, w, 3))\n",
    "    for i in range(0, h):\n",
    "        segmented_image[i] = np.array([colors[p] for p in pixel_segments[i * w: i * w + w]])\n",
    "    return segmented_image"
   ]
  },
  {
   "cell_type": "code",
   "execution_count": 25,
   "metadata": {},
   "outputs": [
    {
     "name": "stdout",
     "output_type": "stream",
     "text": [
      "(2, 3, 3)\n"
     ]
    }
   ],
   "source": [
    "colors = np.array([[132. ,221.  ,11.],[ 67. ,224. ,210.],[234. ,154. ,199.]])\n",
    "pixel_segments = [0,1,2,1,0,2]\n",
    "imagev2 = np.zeros((2,3))\n",
    "\n",
    "print(devectorize(colors, pixel_segments, imagev2).shape)"
   ]
  },
  {
   "cell_type": "code",
   "execution_count": 26,
   "metadata": {},
   "outputs": [],
   "source": [
    "def segmentation(image):\n",
    "    data = vectorize(image)\n",
    "    final_weights,Centers = FuzzyMeansAlgorithm(data)\n",
    "    pixel_segments = argmax(final_weights)\n",
    "    colors = generate_color(k)\n",
    "    segmented_image = devectorize(colors, pixel_segments, image)\n",
    "    return segmented_image"
   ]
  },
  {
   "cell_type": "code",
   "execution_count": 43,
   "metadata": {},
   "outputs": [],
   "source": [
    "segmented_image = segmentation(image)"
   ]
  },
  {
   "cell_type": "code",
   "execution_count": 44,
   "metadata": {},
   "outputs": [
    {
     "data": {
      "text/plain": [
       "True"
      ]
     },
     "execution_count": 44,
     "metadata": {},
     "output_type": "execute_result"
    }
   ],
   "source": [
    "cv2.imwrite('girlv2.jpg',segmented_image)"
   ]
  },
  {
   "cell_type": "code",
   "execution_count": null,
   "metadata": {},
   "outputs": [],
   "source": []
  }
 ],
 "metadata": {
  "colab": {
   "name": "Fuzzy c-means algorithm implementation",
   "provenance": []
  },
  "kernelspec": {
   "display_name": "Python 3",
   "language": "python",
   "name": "python3"
  },
  "language_info": {
   "codemirror_mode": {
    "name": "ipython",
    "version": 3
   },
   "file_extension": ".py",
   "mimetype": "text/x-python",
   "name": "python",
   "nbconvert_exporter": "python",
   "pygments_lexer": "ipython3",
   "version": "3.8.3"
  }
 },
 "nbformat": 4,
 "nbformat_minor": 1
}
